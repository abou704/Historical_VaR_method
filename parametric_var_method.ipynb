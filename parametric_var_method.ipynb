{
 "cells": [
  {
   "cell_type": "code",
   "execution_count": 1,
   "id": "5f5daed0",
   "metadata": {},
   "outputs": [],
   "source": [
    "import pandas as pd\n",
    "import numpy as np\n",
    "import datetime as dt\n",
    "from pandas_datareader import data as pdr\n",
    "from scipy.stats import norm, t\n",
    "import matplotlib.pyplot as plt"
   ]
  },
  {
   "cell_type": "markdown",
   "id": "d90c98bf",
   "metadata": {},
   "source": [
    "# Import data\n",
    "\n",
    "### Getting the stock data from yahoo and compute some parameters"
   ]
  },
  {
   "cell_type": "code",
   "execution_count": 2,
   "id": "2983c22d",
   "metadata": {},
   "outputs": [],
   "source": [
    "def getData(stocks, start, end):\n",
    "    stockData = pdr.get_data_yahoo(stocks, start=start, end=end)\n",
    "    stockData = stockData['Close']\n",
    "    returns = stockData.pct_change()\n",
    "    meanReturns = returns.mean()\n",
    "    covMatrix = returns.cov()\n",
    "    return returns, meanReturns, covMatrix"
   ]
  },
  {
   "cell_type": "markdown",
   "id": "531732df",
   "metadata": {},
   "source": [
    "# Portfolio Performance\n",
    "#### We compute here the Expected Portfolio Return and the standard deviation of the portfolio"
   ]
  },
  {
   "cell_type": "code",
   "execution_count": 3,
   "id": "6a456d17",
   "metadata": {},
   "outputs": [],
   "source": [
    "def portfolioPerformance(weights, meanReturns, covMatrix, Time):\n",
    "    returns = np.sum(meanReturns*weights)*Time\n",
    "    std = np.sqrt( np.dot(weights.T, np.dot(covMatrix, weights)) ) * np.sqrt(Time)\n",
    "    return returns, std"
   ]
  },
  {
   "cell_type": "markdown",
   "id": "a898a676",
   "metadata": {},
   "source": [
    "### Compute returns data"
   ]
  },
  {
   "cell_type": "code",
   "execution_count": 4,
   "id": "41b8c809",
   "metadata": {},
   "outputs": [],
   "source": [
    "stockList = ['CBA', 'BHP', 'TLS', 'NAB', 'WBC', 'STO']\n",
    "stocks = [stock+'.AX' for stock in stockList]\n",
    "endDate = dt.datetime.now()\n",
    "startDate = endDate - dt.timedelta(days=800)\n",
    "returns, meanReturns, covMatrix = getData(stocks, start=startDate, end=endDate)\n",
    "returns = returns.dropna()"
   ]
  },
  {
   "cell_type": "code",
   "execution_count": 5,
   "id": "226c6a29",
   "metadata": {},
   "outputs": [
    {
     "data": {
      "text/html": [
       "<div>\n",
       "<style scoped>\n",
       "    .dataframe tbody tr th:only-of-type {\n",
       "        vertical-align: middle;\n",
       "    }\n",
       "\n",
       "    .dataframe tbody tr th {\n",
       "        vertical-align: top;\n",
       "    }\n",
       "\n",
       "    .dataframe thead th {\n",
       "        text-align: right;\n",
       "    }\n",
       "</style>\n",
       "<table border=\"1\" class=\"dataframe\">\n",
       "  <thead>\n",
       "    <tr style=\"text-align: right;\">\n",
       "      <th>Symbols</th>\n",
       "      <th>CBA.AX</th>\n",
       "      <th>BHP.AX</th>\n",
       "      <th>TLS.AX</th>\n",
       "      <th>NAB.AX</th>\n",
       "      <th>WBC.AX</th>\n",
       "      <th>STO.AX</th>\n",
       "    </tr>\n",
       "    <tr>\n",
       "      <th>Date</th>\n",
       "      <th></th>\n",
       "      <th></th>\n",
       "      <th></th>\n",
       "      <th></th>\n",
       "      <th></th>\n",
       "      <th></th>\n",
       "    </tr>\n",
       "  </thead>\n",
       "  <tbody>\n",
       "    <tr>\n",
       "      <th>2020-07-28</th>\n",
       "      <td>-0.003863</td>\n",
       "      <td>0.017380</td>\n",
       "      <td>0.002976</td>\n",
       "      <td>-0.002786</td>\n",
       "      <td>-0.014673</td>\n",
       "      <td>-0.019928</td>\n",
       "    </tr>\n",
       "    <tr>\n",
       "      <th>2020-07-29</th>\n",
       "      <td>0.011079</td>\n",
       "      <td>-0.019711</td>\n",
       "      <td>-0.002967</td>\n",
       "      <td>0.015642</td>\n",
       "      <td>0.013746</td>\n",
       "      <td>-0.014787</td>\n",
       "    </tr>\n",
       "    <tr>\n",
       "      <th>2020-07-30</th>\n",
       "      <td>0.002876</td>\n",
       "      <td>0.014209</td>\n",
       "      <td>0.005952</td>\n",
       "      <td>-0.003300</td>\n",
       "      <td>-0.001695</td>\n",
       "      <td>0.018762</td>\n",
       "    </tr>\n",
       "    <tr>\n",
       "      <th>2020-07-31</th>\n",
       "      <td>-0.027588</td>\n",
       "      <td>-0.028549</td>\n",
       "      <td>-0.008876</td>\n",
       "      <td>-0.025386</td>\n",
       "      <td>-0.032824</td>\n",
       "      <td>-0.029466</td>\n",
       "    </tr>\n",
       "    <tr>\n",
       "      <th>2020-08-03</th>\n",
       "      <td>-0.017837</td>\n",
       "      <td>0.016054</td>\n",
       "      <td>0.014925</td>\n",
       "      <td>-0.040770</td>\n",
       "      <td>-0.035108</td>\n",
       "      <td>0.007590</td>\n",
       "    </tr>\n",
       "    <tr>\n",
       "      <th>...</th>\n",
       "      <td>...</td>\n",
       "      <td>...</td>\n",
       "      <td>...</td>\n",
       "      <td>...</td>\n",
       "      <td>...</td>\n",
       "      <td>...</td>\n",
       "    </tr>\n",
       "    <tr>\n",
       "      <th>2022-09-26</th>\n",
       "      <td>-0.000320</td>\n",
       "      <td>-0.051611</td>\n",
       "      <td>-0.002653</td>\n",
       "      <td>0.000000</td>\n",
       "      <td>-0.011204</td>\n",
       "      <td>-0.072776</td>\n",
       "    </tr>\n",
       "    <tr>\n",
       "      <th>2022-09-27</th>\n",
       "      <td>-0.001923</td>\n",
       "      <td>0.027624</td>\n",
       "      <td>-0.010638</td>\n",
       "      <td>-0.003407</td>\n",
       "      <td>-0.005666</td>\n",
       "      <td>0.010174</td>\n",
       "    </tr>\n",
       "    <tr>\n",
       "      <th>2022-09-28</th>\n",
       "      <td>-0.009526</td>\n",
       "      <td>0.001344</td>\n",
       "      <td>0.026882</td>\n",
       "      <td>-0.008889</td>\n",
       "      <td>-0.006173</td>\n",
       "      <td>-0.012950</td>\n",
       "    </tr>\n",
       "    <tr>\n",
       "      <th>2022-09-29</th>\n",
       "      <td>0.006268</td>\n",
       "      <td>0.024698</td>\n",
       "      <td>0.015707</td>\n",
       "      <td>0.009659</td>\n",
       "      <td>0.009078</td>\n",
       "      <td>0.023324</td>\n",
       "    </tr>\n",
       "    <tr>\n",
       "      <th>2022-09-30</th>\n",
       "      <td>-0.025988</td>\n",
       "      <td>0.009170</td>\n",
       "      <td>-0.007732</td>\n",
       "      <td>-0.015716</td>\n",
       "      <td>-0.022727</td>\n",
       "      <td>0.009972</td>\n",
       "    </tr>\n",
       "  </tbody>\n",
       "</table>\n",
       "<p>553 rows × 6 columns</p>\n",
       "</div>"
      ],
      "text/plain": [
       "Symbols       CBA.AX    BHP.AX    TLS.AX    NAB.AX    WBC.AX    STO.AX\n",
       "Date                                                                  \n",
       "2020-07-28 -0.003863  0.017380  0.002976 -0.002786 -0.014673 -0.019928\n",
       "2020-07-29  0.011079 -0.019711 -0.002967  0.015642  0.013746 -0.014787\n",
       "2020-07-30  0.002876  0.014209  0.005952 -0.003300 -0.001695  0.018762\n",
       "2020-07-31 -0.027588 -0.028549 -0.008876 -0.025386 -0.032824 -0.029466\n",
       "2020-08-03 -0.017837  0.016054  0.014925 -0.040770 -0.035108  0.007590\n",
       "...              ...       ...       ...       ...       ...       ...\n",
       "2022-09-26 -0.000320 -0.051611 -0.002653  0.000000 -0.011204 -0.072776\n",
       "2022-09-27 -0.001923  0.027624 -0.010638 -0.003407 -0.005666  0.010174\n",
       "2022-09-28 -0.009526  0.001344  0.026882 -0.008889 -0.006173 -0.012950\n",
       "2022-09-29  0.006268  0.024698  0.015707  0.009659  0.009078  0.023324\n",
       "2022-09-30 -0.025988  0.009170 -0.007732 -0.015716 -0.022727  0.009972\n",
       "\n",
       "[553 rows x 6 columns]"
      ]
     },
     "execution_count": 5,
     "metadata": {},
     "output_type": "execute_result"
    }
   ],
   "source": [
    "returns"
   ]
  },
  {
   "cell_type": "code",
   "execution_count": 6,
   "id": "de3cca9d",
   "metadata": {},
   "outputs": [
    {
     "data": {
      "text/plain": [
       "<AxesSubplot:>"
      ]
     },
     "execution_count": 6,
     "metadata": {},
     "output_type": "execute_result"
    },
    {
     "data": {
      "image/png": "[encoded data removed]",
      "text/plain": [
       "<Figure size 432x288 with 1 Axes>"
      ]
     },
     "metadata": {
      "needs_background": "light"
     },
     "output_type": "display_data"
    }
   ],
   "source": [
    "returns['STO.AX'].hist()"
   ]
  },
  {
   "cell_type": "markdown",
   "id": "5e0cbb80",
   "metadata": {},
   "source": [
    "### Compute random weight for each asset that will helps us compute the portfolio"
   ]
  },
  {
   "cell_type": "code",
   "execution_count": 7,
   "id": "3e31303f",
   "metadata": {},
   "outputs": [],
   "source": [
    "weights = np.random.random(len(returns.columns))\n",
    "weights /= np.sum(weights)\n",
    "returns['portfolio'] = returns.dot(weights)"
   ]
  },
  {
   "cell_type": "code",
   "execution_count": 8,
   "id": "6ec09a0e",
   "metadata": {},
   "outputs": [
    {
     "data": {
      "text/html": [
       "<div>\n",
       "<style scoped>\n",
       "    .dataframe tbody tr th:only-of-type {\n",
       "        vertical-align: middle;\n",
       "    }\n",
       "\n",
       "    .dataframe tbody tr th {\n",
       "        vertical-align: top;\n",
       "    }\n",
       "\n",
       "    .dataframe thead th {\n",
       "        text-align: right;\n",
       "    }\n",
       "</style>\n",
       "<table border=\"1\" class=\"dataframe\">\n",
       "  <thead>\n",
       "    <tr style=\"text-align: right;\">\n",
       "      <th>Symbols</th>\n",
       "      <th>CBA.AX</th>\n",
       "      <th>BHP.AX</th>\n",
       "      <th>TLS.AX</th>\n",
       "      <th>NAB.AX</th>\n",
       "      <th>WBC.AX</th>\n",
       "      <th>STO.AX</th>\n",
       "      <th>portfolio</th>\n",
       "    </tr>\n",
       "    <tr>\n",
       "      <th>Date</th>\n",
       "      <th></th>\n",
       "      <th></th>\n",
       "      <th></th>\n",
       "      <th></th>\n",
       "      <th></th>\n",
       "      <th></th>\n",
       "      <th></th>\n",
       "    </tr>\n",
       "  </thead>\n",
       "  <tbody>\n",
       "    <tr>\n",
       "      <th>2020-07-28</th>\n",
       "      <td>-0.003863</td>\n",
       "      <td>0.017380</td>\n",
       "      <td>0.002976</td>\n",
       "      <td>-0.002786</td>\n",
       "      <td>-0.014673</td>\n",
       "      <td>-0.019928</td>\n",
       "      <td>-0.004426</td>\n",
       "    </tr>\n",
       "    <tr>\n",
       "      <th>2020-07-29</th>\n",
       "      <td>0.011079</td>\n",
       "      <td>-0.019711</td>\n",
       "      <td>-0.002967</td>\n",
       "      <td>0.015642</td>\n",
       "      <td>0.013746</td>\n",
       "      <td>-0.014787</td>\n",
       "      <td>-0.000621</td>\n",
       "    </tr>\n",
       "    <tr>\n",
       "      <th>2020-07-30</th>\n",
       "      <td>0.002876</td>\n",
       "      <td>0.014209</td>\n",
       "      <td>0.005952</td>\n",
       "      <td>-0.003300</td>\n",
       "      <td>-0.001695</td>\n",
       "      <td>0.018762</td>\n",
       "      <td>0.007125</td>\n",
       "    </tr>\n",
       "    <tr>\n",
       "      <th>2020-07-31</th>\n",
       "      <td>-0.027588</td>\n",
       "      <td>-0.028549</td>\n",
       "      <td>-0.008876</td>\n",
       "      <td>-0.025386</td>\n",
       "      <td>-0.032824</td>\n",
       "      <td>-0.029466</td>\n",
       "      <td>-0.025522</td>\n",
       "    </tr>\n",
       "    <tr>\n",
       "      <th>2020-08-03</th>\n",
       "      <td>-0.017837</td>\n",
       "      <td>0.016054</td>\n",
       "      <td>0.014925</td>\n",
       "      <td>-0.040770</td>\n",
       "      <td>-0.035108</td>\n",
       "      <td>0.007590</td>\n",
       "      <td>-0.006990</td>\n",
       "    </tr>\n",
       "    <tr>\n",
       "      <th>...</th>\n",
       "      <td>...</td>\n",
       "      <td>...</td>\n",
       "      <td>...</td>\n",
       "      <td>...</td>\n",
       "      <td>...</td>\n",
       "      <td>...</td>\n",
       "      <td>...</td>\n",
       "    </tr>\n",
       "    <tr>\n",
       "      <th>2022-09-26</th>\n",
       "      <td>-0.000320</td>\n",
       "      <td>-0.051611</td>\n",
       "      <td>-0.002653</td>\n",
       "      <td>0.000000</td>\n",
       "      <td>-0.011204</td>\n",
       "      <td>-0.072776</td>\n",
       "      <td>-0.025766</td>\n",
       "    </tr>\n",
       "    <tr>\n",
       "      <th>2022-09-27</th>\n",
       "      <td>-0.001923</td>\n",
       "      <td>0.027624</td>\n",
       "      <td>-0.010638</td>\n",
       "      <td>-0.003407</td>\n",
       "      <td>-0.005666</td>\n",
       "      <td>0.010174</td>\n",
       "      <td>0.002994</td>\n",
       "    </tr>\n",
       "    <tr>\n",
       "      <th>2022-09-28</th>\n",
       "      <td>-0.009526</td>\n",
       "      <td>0.001344</td>\n",
       "      <td>0.026882</td>\n",
       "      <td>-0.008889</td>\n",
       "      <td>-0.006173</td>\n",
       "      <td>-0.012950</td>\n",
       "      <td>-0.001889</td>\n",
       "    </tr>\n",
       "    <tr>\n",
       "      <th>2022-09-29</th>\n",
       "      <td>0.006268</td>\n",
       "      <td>0.024698</td>\n",
       "      <td>0.015707</td>\n",
       "      <td>0.009659</td>\n",
       "      <td>0.009078</td>\n",
       "      <td>0.023324</td>\n",
       "      <td>0.015174</td>\n",
       "    </tr>\n",
       "    <tr>\n",
       "      <th>2022-09-30</th>\n",
       "      <td>-0.025988</td>\n",
       "      <td>0.009170</td>\n",
       "      <td>-0.007732</td>\n",
       "      <td>-0.015716</td>\n",
       "      <td>-0.022727</td>\n",
       "      <td>0.009972</td>\n",
       "      <td>-0.008086</td>\n",
       "    </tr>\n",
       "  </tbody>\n",
       "</table>\n",
       "<p>553 rows × 7 columns</p>\n",
       "</div>"
      ],
      "text/plain": [
       "Symbols       CBA.AX    BHP.AX    TLS.AX    NAB.AX    WBC.AX    STO.AX  \\\n",
       "Date                                                                     \n",
       "2020-07-28 -0.003863  0.017380  0.002976 -0.002786 -0.014673 -0.019928   \n",
       "2020-07-29  0.011079 -0.019711 -0.002967  0.015642  0.013746 -0.014787   \n",
       "2020-07-30  0.002876  0.014209  0.005952 -0.003300 -0.001695  0.018762   \n",
       "2020-07-31 -0.027588 -0.028549 -0.008876 -0.025386 -0.032824 -0.029466   \n",
       "2020-08-03 -0.017837  0.016054  0.014925 -0.040770 -0.035108  0.007590   \n",
       "...              ...       ...       ...       ...       ...       ...   \n",
       "2022-09-26 -0.000320 -0.051611 -0.002653  0.000000 -0.011204 -0.072776   \n",
       "2022-09-27 -0.001923  0.027624 -0.010638 -0.003407 -0.005666  0.010174   \n",
       "2022-09-28 -0.009526  0.001344  0.026882 -0.008889 -0.006173 -0.012950   \n",
       "2022-09-29  0.006268  0.024698  0.015707  0.009659  0.009078  0.023324   \n",
       "2022-09-30 -0.025988  0.009170 -0.007732 -0.015716 -0.022727  0.009972   \n",
       "\n",
       "Symbols     portfolio  \n",
       "Date                   \n",
       "2020-07-28  -0.004426  \n",
       "2020-07-29  -0.000621  \n",
       "2020-07-30   0.007125  \n",
       "2020-07-31  -0.025522  \n",
       "2020-08-03  -0.006990  \n",
       "...               ...  \n",
       "2022-09-26  -0.025766  \n",
       "2022-09-27   0.002994  \n",
       "2022-09-28  -0.001889  \n",
       "2022-09-29   0.015174  \n",
       "2022-09-30  -0.008086  \n",
       "\n",
       "[553 rows x 7 columns]"
      ]
     },
     "execution_count": 8,
     "metadata": {},
     "output_type": "execute_result"
    }
   ],
   "source": [
    "returns"
   ]
  },
  {
   "cell_type": "code",
   "execution_count": 9,
   "id": "d465dd47",
   "metadata": {},
   "outputs": [
    {
     "data": {
      "text/plain": [
       "<AxesSubplot:>"
      ]
     },
     "execution_count": 9,
     "metadata": {},
     "output_type": "execute_result"
    },
    {
     "data": {
      "image/png": "[encoded data removed]",
      "text/plain": [
       "<Figure size 432x288 with 1 Axes>"
      ]
     },
     "metadata": {
      "needs_background": "light"
     },
     "output_type": "display_data"
    }
   ],
   "source": [
    "returns['portfolio'].hist()"
   ]
  },
  {
   "cell_type": "markdown",
   "id": "aab43a2e",
   "metadata": {},
   "source": [
    "### Compute historical_Var on one asset or for the entire portfolio"
   ]
  },
  {
   "cell_type": "code",
   "execution_count": 10,
   "id": "a37ed033",
   "metadata": {},
   "outputs": [],
   "source": [
    "def VaR(returns, alpha=5):\n",
    "    \"\"\"\n",
    "    Read in a pandas dataframe of returns / a pandas series of returns\n",
    "    Output the percentile of the distribution at the given alpha confidence level\n",
    "    \"\"\"\n",
    "    if isinstance(returns, pd.Series):\n",
    "        return np.percentile(returns, alpha)\n",
    "    # A passed user-defined-function will be passed a Series for evaluation.\n",
    "    elif isinstance(returns, pd.DataFrame):\n",
    "        return returns.aggregate(VaR, alpha=alpha)\n",
    "    else:\n",
    "        raise TypeError(\"Expected returns to be dataframe or series\")"
   ]
  },
  {
   "cell_type": "code",
   "execution_count": 11,
   "id": "664a9178",
   "metadata": {},
   "outputs": [
    {
     "data": {
      "text/plain": [
       "Symbols\n",
       "CBA.AX      -0.020749\n",
       "BHP.AX      -0.031117\n",
       "TLS.AX      -0.017593\n",
       "NAB.AX      -0.020781\n",
       "WBC.AX      -0.020995\n",
       "STO.AX      -0.032896\n",
       "portfolio   -0.019691\n",
       "dtype: float64"
      ]
     },
     "execution_count": 11,
     "metadata": {},
     "output_type": "execute_result"
    }
   ],
   "source": [
    "VaR(returns, alpha=5)"
   ]
  },
  {
   "cell_type": "code",
   "execution_count": 12,
   "id": "c98b97a6",
   "metadata": {},
   "outputs": [
    {
     "data": {
      "text/plain": [
       "-0.019690718621035774"
      ]
     },
     "execution_count": 12,
     "metadata": {},
     "output_type": "execute_result"
    }
   ],
   "source": [
    "VaR(returns['portfolio'], alpha=5)"
   ]
  },
  {
   "cell_type": "markdown",
   "id": "c9752359",
   "metadata": {},
   "source": [
    "### Compute historical_CVar on one asset or for the entire portfolio"
   ]
  },
  {
   "cell_type": "code",
   "execution_count": 13,
   "id": "8eb9e51c",
   "metadata": {},
   "outputs": [],
   "source": [
    "def CVaR(returns, alpha=5):\n",
    "    \"\"\"\n",
    "    Read in a pandas dataframe of returns / a pandas series of returns\n",
    "    Output the CVaR for dataframe / series\n",
    "    \"\"\"\n",
    "    if isinstance(returns, pd.Series):\n",
    "        belowVaR = returns <= VaR(returns, alpha=alpha)\n",
    "        return returns[belowVaR].mean()\n",
    "    # A passed user-defined-function will be passed a Series for evaluation.\n",
    "    elif isinstance(returns, pd.DataFrame):\n",
    "        return returns.aggregate(CVaR, alpha=alpha)\n",
    "    else:\n",
    "        raise TypeError(\"Expected returns to be dataframe or series\")"
   ]
  },
  {
   "cell_type": "code",
   "execution_count": 14,
   "id": "723f6841",
   "metadata": {},
   "outputs": [
    {
     "data": {
      "text/plain": [
       "Symbols\n",
       "CBA.AX      -0.030004\n",
       "BHP.AX      -0.047766\n",
       "TLS.AX      -0.025651\n",
       "NAB.AX      -0.028399\n",
       "WBC.AX      -0.030362\n",
       "STO.AX      -0.045332\n",
       "portfolio   -0.024245\n",
       "dtype: float64"
      ]
     },
     "execution_count": 14,
     "metadata": {},
     "output_type": "execute_result"
    }
   ],
   "source": [
    "CVaR(returns, alpha=5)"
   ]
  },
  {
   "cell_type": "markdown",
   "id": "00a1576d",
   "metadata": {},
   "source": [
    "### We Apply now our var and cvar models to an itinial investement = 10000\n",
    "#### What we want to know is given the level of risk alpha= 5 what is the worst case scenario and the expectation of loss in this worst case scenario"
   ]
  },
  {
   "cell_type": "code",
   "execution_count": 15,
   "id": "ed5a5e20",
   "metadata": {},
   "outputs": [
    {
     "name": "stdout",
     "output_type": "stream",
     "text": [
      "Expected Portfolio Return:       50.48\n",
      "Value at Risk 95th CI    :       622.68\n",
      "Conditional VaR 95th CI  :       766.7\n"
     ]
    }
   ],
   "source": [
    "# 10 days\n",
    "Time = 10\n",
    "hVaR = -VaR(returns['portfolio'], alpha=5)*np.sqrt(Time)\n",
    "hCVaR = -CVaR(returns['portfolio'], alpha=5)*np.sqrt(Time)\n",
    "pRet, pStd = portfolioPerformance(weights, meanReturns, covMatrix, Time)\n",
    "InitialInvestment = 10000\n",
    "print('Expected Portfolio Return:      ', round(InitialInvestment*pRet,2))\n",
    "print('Value at Risk 95th CI    :      ', round(InitialInvestment*hVaR,2))\n",
    "print('Conditional VaR 95th CI  :      ', round(InitialInvestment*hCVaR,2))"
   ]
  },
  {
   "cell_type": "markdown",
   "id": "35c47cf4",
   "metadata": {},
   "source": [
    "#### Explanation: \n",
    "##### Over a 10 days time horizon, we expect to make 6.04 and at the 95% interval confidence we are happy to not lose anymore thant 249.04"
   ]
  },
  {
   "cell_type": "code",
   "execution_count": null,
   "id": "1218c316",
   "metadata": {},
   "outputs": [],
   "source": []
  },
  {
   "cell_type": "code",
   "execution_count": 16,
   "id": "ecafb4c6",
   "metadata": {},
   "outputs": [],
   "source": [
    "\n",
    "def var_parametric(portofolioReturns, portfolioStd, distribution='normal', alpha=5, dof=6):\n",
    "    # because the distribution is symmetric\n",
    "    if distribution == 'normal':\n",
    "        VaR = norm.ppf(1-alpha/100)*portfolioStd - portofolioReturns\n",
    "    elif distribution == 't-distribution':\n",
    "        nu = dof\n",
    "        VaR = np.sqrt((nu-2)/nu) * t.ppf(1-alpha/100, nu) * portfolioStd - portofolioReturns\n",
    "    else:\n",
    "        raise TypeError(\"Expected distribution type 'normal'/'t-distribution'\")\n",
    "    return VaR"
   ]
  },
  {
   "cell_type": "code",
   "execution_count": 17,
   "id": "8251b7af",
   "metadata": {},
   "outputs": [],
   "source": [
    "def cvar_parametric(portofolioReturns, portfolioStd, distribution='normal', alpha=5, dof=6):\n",
    "    if distribution == 'normal':\n",
    "        CVaR = (alpha/100)**-1 * norm.pdf(norm.ppf(alpha/100))*portfolioStd - portofolioReturns\n",
    "    elif distribution == 't-distribution':\n",
    "        nu = dof\n",
    "        xanu = t.ppf(alpha/100, nu)\n",
    "        CVaR = -1/(alpha/100) * (1-nu)**(-1) * (nu-2+xanu**2) * t.pdf(xanu, nu) * portfolioStd - portofolioReturns\n",
    "    else:\n",
    "        raise TypeError(\"Expected distribution type 'normal'/'t-distribution'\")\n",
    "    return CVaR"
   ]
  },
  {
   "cell_type": "code",
   "execution_count": 18,
   "id": "b3e8ec6c",
   "metadata": {},
   "outputs": [],
   "source": [
    "normVaR = var_parametric(pRet, pStd)\n",
    "normCVaR = cvar_parametric(pRet, pStd)\n",
    "tVaR = var_parametric(pRet, pStd, distribution='t-distribution')\n",
    "tCVaR = cvar_parametric(pRet, pStd, distribution='t-distribution')"
   ]
  },
  {
   "cell_type": "code",
   "execution_count": 19,
   "id": "fd297957",
   "metadata": {},
   "outputs": [
    {
     "name": "stdout",
     "output_type": "stream",
     "text": [
      "Normal VaR 95th CI       :       531.83\n",
      "Normal CVaR 95th CI      :       679.76\n",
      "t-dist VaR 95th CI       :       511.21\n",
      "t-dist CVaR 95th CI      :       712.85\n"
     ]
    }
   ],
   "source": [
    "print(\"Normal VaR 95th CI       :      \", round(InitialInvestment*normVaR,2))\n",
    "print(\"Normal CVaR 95th CI      :      \", round(InitialInvestment*normCVaR,2))\n",
    "print(\"t-dist VaR 95th CI       :      \", round(InitialInvestment*tVaR,2))\n",
    "print(\"t-dist CVaR 95th CI      :      \", round(InitialInvestment*tCVaR,2))"
   ]
  }
 ],
 "metadata": {
  "kernelspec": {
   "display_name": "Python 3 (ipykernel)",
   "language": "python",
   "name": "python3"
  },
  "language_info": {
   "codemirror_mode": {
    "name": "ipython",
    "version": 3
   },
   "file_extension": ".py",
   "mimetype": "text/x-python",
   "name": "python",
   "nbconvert_exporter": "python",
   "pygments_lexer": "ipython3",
   "version": "3.9.12"
  }
 },
 "nbformat": 4,
 "nbformat_minor": 5
}
