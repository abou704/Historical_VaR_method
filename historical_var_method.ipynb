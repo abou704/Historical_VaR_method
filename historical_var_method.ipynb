{
 "cells": [
  {
   "cell_type": "code",
   "execution_count": 2,
   "id": "5f5daed0",
   "metadata": {},
   "outputs": [],
   "source": [
    "import pandas as pd\n",
    "import numpy as np\n",
    "import datetime as dt\n",
    "from pandas_datareader import data as pdr\n",
    "from scipy.stats import norm, t\n",
    "import matplotlib.pyplot as plt"
   ]
  },
  {
   "cell_type": "markdown",
   "id": "d90c98bf",
   "metadata": {},
   "source": [
    "# Import data\n",
    "\n",
    "### Getting the stock data from yahoo and compute some parameters"
   ]
  },
  {
   "cell_type": "code",
   "execution_count": 26,
   "id": "2983c22d",
   "metadata": {},
   "outputs": [],
   "source": [
    "def getData(stocks, start, end):\n",
    "    stockData = pdr.get_data_yahoo(stocks, start=start, end=end)\n",
    "    stockData = stockData['Close']\n",
    "    returns = stockData.pct_change()\n",
    "    meanReturns = returns.mean()\n",
    "    covMatrix = returns.cov()\n",
    "    return returns, meanReturns, covMatrix"
   ]
  },
  {
   "cell_type": "markdown",
   "id": "531732df",
   "metadata": {},
   "source": [
    "# Portfolio Performance\n",
    "#### We compute here the Expected Portfolio Return and the standard deviation of the portfolio"
   ]
  },
  {
   "cell_type": "code",
   "execution_count": 4,
   "id": "6a456d17",
   "metadata": {},
   "outputs": [],
   "source": [
    "def portfolioPerformance(weights, meanReturns, covMatrix, Time):\n",
    "    returns = np.sum(meanReturns*weights)*Time\n",
    "    std = np.sqrt( np.dot(weights.T, np.dot(covMatrix, weights)) ) * np.sqrt(Time)\n",
    "    return returns, std"
   ]
  },
  {
   "cell_type": "markdown",
   "id": "a898a676",
   "metadata": {},
   "source": [
    "### Compute returns data"
   ]
  },
  {
   "cell_type": "code",
   "execution_count": 5,
   "id": "41b8c809",
   "metadata": {},
   "outputs": [],
   "source": [
    "stockList = ['CBA', 'BHP', 'TLS', 'NAB', 'WBC', 'STO']\n",
    "stocks = [stock+'.AX' for stock in stockList]\n",
    "endDate = dt.datetime.now()\n",
    "startDate = endDate - dt.timedelta(days=800)\n",
    "returns, meanReturns, covMatrix = getData(stocks, start=startDate, end=endDate)\n",
    "returns = returns.dropna()"
   ]
  },
  {
   "cell_type": "code",
   "execution_count": 27,
   "id": "226c6a29",
   "metadata": {},
   "outputs": [
    {
     "data": {
      "text/html": [
       "<div>\n",
       "<style scoped>\n",
       "    .dataframe tbody tr th:only-of-type {\n",
       "        vertical-align: middle;\n",
       "    }\n",
       "\n",
       "    .dataframe tbody tr th {\n",
       "        vertical-align: top;\n",
       "    }\n",
       "\n",
       "    .dataframe thead th {\n",
       "        text-align: right;\n",
       "    }\n",
       "</style>\n",
       "<table border=\"1\" class=\"dataframe\">\n",
       "  <thead>\n",
       "    <tr style=\"text-align: right;\">\n",
       "      <th>Symbols</th>\n",
       "      <th>CBA.AX</th>\n",
       "      <th>BHP.AX</th>\n",
       "      <th>TLS.AX</th>\n",
       "      <th>NAB.AX</th>\n",
       "      <th>WBC.AX</th>\n",
       "      <th>STO.AX</th>\n",
       "      <th>portfolio</th>\n",
       "    </tr>\n",
       "    <tr>\n",
       "      <th>Date</th>\n",
       "      <th></th>\n",
       "      <th></th>\n",
       "      <th></th>\n",
       "      <th></th>\n",
       "      <th></th>\n",
       "      <th></th>\n",
       "      <th></th>\n",
       "    </tr>\n",
       "  </thead>\n",
       "  <tbody>\n",
       "    <tr>\n",
       "      <th>2020-07-21</th>\n",
       "      <td>0.033894</td>\n",
       "      <td>0.010943</td>\n",
       "      <td>0.000000</td>\n",
       "      <td>0.025267</td>\n",
       "      <td>0.024887</td>\n",
       "      <td>0.034884</td>\n",
       "      <td>0.025329</td>\n",
       "    </tr>\n",
       "    <tr>\n",
       "      <th>2020-07-22</th>\n",
       "      <td>-0.004031</td>\n",
       "      <td>-0.033505</td>\n",
       "      <td>-0.002941</td>\n",
       "      <td>-0.008215</td>\n",
       "      <td>-0.006071</td>\n",
       "      <td>0.022472</td>\n",
       "      <td>-0.006759</td>\n",
       "    </tr>\n",
       "    <tr>\n",
       "      <th>2020-07-23</th>\n",
       "      <td>-0.005261</td>\n",
       "      <td>-0.006667</td>\n",
       "      <td>-0.011799</td>\n",
       "      <td>0.006626</td>\n",
       "      <td>0.004442</td>\n",
       "      <td>0.034799</td>\n",
       "      <td>0.002237</td>\n",
       "    </tr>\n",
       "    <tr>\n",
       "      <th>2020-07-24</th>\n",
       "      <td>-0.011934</td>\n",
       "      <td>-0.004564</td>\n",
       "      <td>-0.005970</td>\n",
       "      <td>-0.013714</td>\n",
       "      <td>-0.018242</td>\n",
       "      <td>-0.012389</td>\n",
       "      <td>-0.013698</td>\n",
       "    </tr>\n",
       "    <tr>\n",
       "      <th>2020-07-27</th>\n",
       "      <td>-0.005078</td>\n",
       "      <td>0.008630</td>\n",
       "      <td>0.009009</td>\n",
       "      <td>-0.001668</td>\n",
       "      <td>-0.002252</td>\n",
       "      <td>-0.010753</td>\n",
       "      <td>-0.001788</td>\n",
       "    </tr>\n",
       "    <tr>\n",
       "      <th>...</th>\n",
       "      <td>...</td>\n",
       "      <td>...</td>\n",
       "      <td>...</td>\n",
       "      <td>...</td>\n",
       "      <td>...</td>\n",
       "      <td>...</td>\n",
       "      <td>...</td>\n",
       "    </tr>\n",
       "    <tr>\n",
       "      <th>2022-09-16</th>\n",
       "      <td>-0.008731</td>\n",
       "      <td>-0.018069</td>\n",
       "      <td>-0.012953</td>\n",
       "      <td>0.004695</td>\n",
       "      <td>-0.000464</td>\n",
       "      <td>-0.023869</td>\n",
       "      <td>-0.004045</td>\n",
       "    </tr>\n",
       "    <tr>\n",
       "      <th>2022-09-19</th>\n",
       "      <td>0.004563</td>\n",
       "      <td>-0.006046</td>\n",
       "      <td>-0.005249</td>\n",
       "      <td>-0.008678</td>\n",
       "      <td>0.000929</td>\n",
       "      <td>-0.007722</td>\n",
       "      <td>-0.001790</td>\n",
       "    </tr>\n",
       "    <tr>\n",
       "      <th>2022-09-20</th>\n",
       "      <td>0.019755</td>\n",
       "      <td>0.036234</td>\n",
       "      <td>0.002639</td>\n",
       "      <td>0.017508</td>\n",
       "      <td>0.015777</td>\n",
       "      <td>0.015564</td>\n",
       "      <td>0.017986</td>\n",
       "    </tr>\n",
       "    <tr>\n",
       "      <th>2022-09-21</th>\n",
       "      <td>-0.011188</td>\n",
       "      <td>-0.031138</td>\n",
       "      <td>0.010526</td>\n",
       "      <td>-0.013236</td>\n",
       "      <td>-0.007309</td>\n",
       "      <td>-0.010217</td>\n",
       "      <td>-0.010690</td>\n",
       "    </tr>\n",
       "    <tr>\n",
       "      <th>2022-09-23</th>\n",
       "      <td>-0.018963</td>\n",
       "      <td>0.005532</td>\n",
       "      <td>-0.018229</td>\n",
       "      <td>-0.015761</td>\n",
       "      <td>-0.014266</td>\n",
       "      <td>-0.042581</td>\n",
       "      <td>-0.015735</td>\n",
       "    </tr>\n",
       "  </tbody>\n",
       "</table>\n",
       "<p>553 rows × 7 columns</p>\n",
       "</div>"
      ],
      "text/plain": [
       "Symbols       CBA.AX    BHP.AX    TLS.AX    NAB.AX    WBC.AX    STO.AX  \\\n",
       "Date                                                                     \n",
       "2020-07-21  0.033894  0.010943  0.000000  0.025267  0.024887  0.034884   \n",
       "2020-07-22 -0.004031 -0.033505 -0.002941 -0.008215 -0.006071  0.022472   \n",
       "2020-07-23 -0.005261 -0.006667 -0.011799  0.006626  0.004442  0.034799   \n",
       "2020-07-24 -0.011934 -0.004564 -0.005970 -0.013714 -0.018242 -0.012389   \n",
       "2020-07-27 -0.005078  0.008630  0.009009 -0.001668 -0.002252 -0.010753   \n",
       "...              ...       ...       ...       ...       ...       ...   \n",
       "2022-09-16 -0.008731 -0.018069 -0.012953  0.004695 -0.000464 -0.023869   \n",
       "2022-09-19  0.004563 -0.006046 -0.005249 -0.008678  0.000929 -0.007722   \n",
       "2022-09-20  0.019755  0.036234  0.002639  0.017508  0.015777  0.015564   \n",
       "2022-09-21 -0.011188 -0.031138  0.010526 -0.013236 -0.007309 -0.010217   \n",
       "2022-09-23 -0.018963  0.005532 -0.018229 -0.015761 -0.014266 -0.042581   \n",
       "\n",
       "Symbols     portfolio  \n",
       "Date                   \n",
       "2020-07-21   0.025329  \n",
       "2020-07-22  -0.006759  \n",
       "2020-07-23   0.002237  \n",
       "2020-07-24  -0.013698  \n",
       "2020-07-27  -0.001788  \n",
       "...               ...  \n",
       "2022-09-16  -0.004045  \n",
       "2022-09-19  -0.001790  \n",
       "2022-09-20   0.017986  \n",
       "2022-09-21  -0.010690  \n",
       "2022-09-23  -0.015735  \n",
       "\n",
       "[553 rows x 7 columns]"
      ]
     },
     "execution_count": 27,
     "metadata": {},
     "output_type": "execute_result"
    }
   ],
   "source": [
    "returns"
   ]
  },
  {
   "cell_type": "markdown",
   "id": "5e0cbb80",
   "metadata": {},
   "source": [
    "### Compute random weight for each asset that will helps us compute the portfolio"
   ]
  },
  {
   "cell_type": "code",
   "execution_count": 7,
   "id": "3e31303f",
   "metadata": {},
   "outputs": [],
   "source": [
    "weights = np.random.random(len(returns.columns))\n",
    "weights /= np.sum(weights)\n",
    "returns['portfolio'] = returns.dot(weights)"
   ]
  },
  {
   "cell_type": "code",
   "execution_count": 8,
   "id": "6ec09a0e",
   "metadata": {},
   "outputs": [
    {
     "data": {
      "text/html": [
       "<div>\n",
       "<style scoped>\n",
       "    .dataframe tbody tr th:only-of-type {\n",
       "        vertical-align: middle;\n",
       "    }\n",
       "\n",
       "    .dataframe tbody tr th {\n",
       "        vertical-align: top;\n",
       "    }\n",
       "\n",
       "    .dataframe thead th {\n",
       "        text-align: right;\n",
       "    }\n",
       "</style>\n",
       "<table border=\"1\" class=\"dataframe\">\n",
       "  <thead>\n",
       "    <tr style=\"text-align: right;\">\n",
       "      <th>Symbols</th>\n",
       "      <th>CBA.AX</th>\n",
       "      <th>BHP.AX</th>\n",
       "      <th>TLS.AX</th>\n",
       "      <th>NAB.AX</th>\n",
       "      <th>WBC.AX</th>\n",
       "      <th>STO.AX</th>\n",
       "      <th>portfolio</th>\n",
       "    </tr>\n",
       "    <tr>\n",
       "      <th>Date</th>\n",
       "      <th></th>\n",
       "      <th></th>\n",
       "      <th></th>\n",
       "      <th></th>\n",
       "      <th></th>\n",
       "      <th></th>\n",
       "      <th></th>\n",
       "    </tr>\n",
       "  </thead>\n",
       "  <tbody>\n",
       "    <tr>\n",
       "      <th>2020-07-21</th>\n",
       "      <td>0.033894</td>\n",
       "      <td>0.010943</td>\n",
       "      <td>0.000000</td>\n",
       "      <td>0.025267</td>\n",
       "      <td>0.024887</td>\n",
       "      <td>0.034884</td>\n",
       "      <td>0.025329</td>\n",
       "    </tr>\n",
       "    <tr>\n",
       "      <th>2020-07-22</th>\n",
       "      <td>-0.004031</td>\n",
       "      <td>-0.033505</td>\n",
       "      <td>-0.002941</td>\n",
       "      <td>-0.008215</td>\n",
       "      <td>-0.006071</td>\n",
       "      <td>0.022472</td>\n",
       "      <td>-0.006759</td>\n",
       "    </tr>\n",
       "    <tr>\n",
       "      <th>2020-07-23</th>\n",
       "      <td>-0.005261</td>\n",
       "      <td>-0.006667</td>\n",
       "      <td>-0.011799</td>\n",
       "      <td>0.006626</td>\n",
       "      <td>0.004442</td>\n",
       "      <td>0.034799</td>\n",
       "      <td>0.002237</td>\n",
       "    </tr>\n",
       "    <tr>\n",
       "      <th>2020-07-24</th>\n",
       "      <td>-0.011934</td>\n",
       "      <td>-0.004564</td>\n",
       "      <td>-0.005970</td>\n",
       "      <td>-0.013714</td>\n",
       "      <td>-0.018242</td>\n",
       "      <td>-0.012389</td>\n",
       "      <td>-0.013698</td>\n",
       "    </tr>\n",
       "    <tr>\n",
       "      <th>2020-07-27</th>\n",
       "      <td>-0.005078</td>\n",
       "      <td>0.008630</td>\n",
       "      <td>0.009009</td>\n",
       "      <td>-0.001668</td>\n",
       "      <td>-0.002252</td>\n",
       "      <td>-0.010753</td>\n",
       "      <td>-0.001788</td>\n",
       "    </tr>\n",
       "    <tr>\n",
       "      <th>...</th>\n",
       "      <td>...</td>\n",
       "      <td>...</td>\n",
       "      <td>...</td>\n",
       "      <td>...</td>\n",
       "      <td>...</td>\n",
       "      <td>...</td>\n",
       "      <td>...</td>\n",
       "    </tr>\n",
       "    <tr>\n",
       "      <th>2022-09-16</th>\n",
       "      <td>-0.008731</td>\n",
       "      <td>-0.018069</td>\n",
       "      <td>-0.012953</td>\n",
       "      <td>0.004695</td>\n",
       "      <td>-0.000464</td>\n",
       "      <td>-0.023869</td>\n",
       "      <td>-0.004045</td>\n",
       "    </tr>\n",
       "    <tr>\n",
       "      <th>2022-09-19</th>\n",
       "      <td>0.004563</td>\n",
       "      <td>-0.006046</td>\n",
       "      <td>-0.005249</td>\n",
       "      <td>-0.008678</td>\n",
       "      <td>0.000929</td>\n",
       "      <td>-0.007722</td>\n",
       "      <td>-0.001790</td>\n",
       "    </tr>\n",
       "    <tr>\n",
       "      <th>2022-09-20</th>\n",
       "      <td>0.019755</td>\n",
       "      <td>0.036234</td>\n",
       "      <td>0.002639</td>\n",
       "      <td>0.017508</td>\n",
       "      <td>0.015777</td>\n",
       "      <td>0.015564</td>\n",
       "      <td>0.017986</td>\n",
       "    </tr>\n",
       "    <tr>\n",
       "      <th>2022-09-21</th>\n",
       "      <td>-0.011188</td>\n",
       "      <td>-0.031138</td>\n",
       "      <td>0.010526</td>\n",
       "      <td>-0.013236</td>\n",
       "      <td>-0.007309</td>\n",
       "      <td>-0.010217</td>\n",
       "      <td>-0.010690</td>\n",
       "    </tr>\n",
       "    <tr>\n",
       "      <th>2022-09-23</th>\n",
       "      <td>-0.018963</td>\n",
       "      <td>0.005532</td>\n",
       "      <td>-0.018229</td>\n",
       "      <td>-0.015761</td>\n",
       "      <td>-0.014266</td>\n",
       "      <td>-0.042581</td>\n",
       "      <td>-0.015735</td>\n",
       "    </tr>\n",
       "  </tbody>\n",
       "</table>\n",
       "<p>553 rows × 7 columns</p>\n",
       "</div>"
      ],
      "text/plain": [
       "Symbols       CBA.AX    BHP.AX    TLS.AX    NAB.AX    WBC.AX    STO.AX  \\\n",
       "Date                                                                     \n",
       "2020-07-21  0.033894  0.010943  0.000000  0.025267  0.024887  0.034884   \n",
       "2020-07-22 -0.004031 -0.033505 -0.002941 -0.008215 -0.006071  0.022472   \n",
       "2020-07-23 -0.005261 -0.006667 -0.011799  0.006626  0.004442  0.034799   \n",
       "2020-07-24 -0.011934 -0.004564 -0.005970 -0.013714 -0.018242 -0.012389   \n",
       "2020-07-27 -0.005078  0.008630  0.009009 -0.001668 -0.002252 -0.010753   \n",
       "...              ...       ...       ...       ...       ...       ...   \n",
       "2022-09-16 -0.008731 -0.018069 -0.012953  0.004695 -0.000464 -0.023869   \n",
       "2022-09-19  0.004563 -0.006046 -0.005249 -0.008678  0.000929 -0.007722   \n",
       "2022-09-20  0.019755  0.036234  0.002639  0.017508  0.015777  0.015564   \n",
       "2022-09-21 -0.011188 -0.031138  0.010526 -0.013236 -0.007309 -0.010217   \n",
       "2022-09-23 -0.018963  0.005532 -0.018229 -0.015761 -0.014266 -0.042581   \n",
       "\n",
       "Symbols     portfolio  \n",
       "Date                   \n",
       "2020-07-21   0.025329  \n",
       "2020-07-22  -0.006759  \n",
       "2020-07-23   0.002237  \n",
       "2020-07-24  -0.013698  \n",
       "2020-07-27  -0.001788  \n",
       "...               ...  \n",
       "2022-09-16  -0.004045  \n",
       "2022-09-19  -0.001790  \n",
       "2022-09-20   0.017986  \n",
       "2022-09-21  -0.010690  \n",
       "2022-09-23  -0.015735  \n",
       "\n",
       "[553 rows x 7 columns]"
      ]
     },
     "execution_count": 8,
     "metadata": {},
     "output_type": "execute_result"
    }
   ],
   "source": [
    "returns"
   ]
  },
  {
   "cell_type": "markdown",
   "id": "aab43a2e",
   "metadata": {},
   "source": [
    "### Compute historical_Var on one asset or for the entire portfolio"
   ]
  },
  {
   "cell_type": "code",
   "execution_count": 33,
   "id": "a37ed033",
   "metadata": {},
   "outputs": [],
   "source": [
    "def VaR(returns, alpha=5):\n",
    "    \"\"\"\n",
    "    Read in a pandas dataframe of returns / a pandas series of returns\n",
    "    Output the percentile of the distribution at the given alpha confidence level\n",
    "    \"\"\"\n",
    "    if isinstance(returns, pd.Series):\n",
    "        return np.percentile(returns, alpha)\n",
    "    # A passed user-defined-function will be passed a Series for evaluation.\n",
    "    elif isinstance(returns, pd.DataFrame):\n",
    "        return returns.aggregate(historicalVaR, alpha=alpha)\n",
    "    else:\n",
    "        raise TypeError(\"Expected returns to be dataframe or series\")"
   ]
  },
  {
   "cell_type": "code",
   "execution_count": 34,
   "id": "664a9178",
   "metadata": {},
   "outputs": [
    {
     "data": {
      "text/plain": [
       "Symbols\n",
       "CBA.AX      -0.034983\n",
       "BHP.AX      -0.060839\n",
       "TLS.AX      -0.026893\n",
       "NAB.AX      -0.031172\n",
       "WBC.AX      -0.034490\n",
       "STO.AX      -0.050145\n",
       "portfolio   -0.028051\n",
       "dtype: float64"
      ]
     },
     "execution_count": 34,
     "metadata": {},
     "output_type": "execute_result"
    }
   ],
   "source": [
    "VaR(returns, alpha=5)"
   ]
  },
  {
   "cell_type": "code",
   "execution_count": 36,
   "id": "c98b97a6",
   "metadata": {},
   "outputs": [
    {
     "data": {
      "text/plain": [
       "-0.019250781362722725"
      ]
     },
     "execution_count": 36,
     "metadata": {},
     "output_type": "execute_result"
    }
   ],
   "source": [
    "VaR(returns['portfolio'], alpha=5)"
   ]
  },
  {
   "cell_type": "markdown",
   "id": "c9752359",
   "metadata": {},
   "source": [
    "### Compute historical_CVar on one asset or for the entire portfolio"
   ]
  },
  {
   "cell_type": "code",
   "execution_count": 31,
   "id": "8eb9e51c",
   "metadata": {},
   "outputs": [],
   "source": [
    "def CVaR(returns, alpha=5):\n",
    "    \"\"\"\n",
    "    Read in a pandas dataframe of returns / a pandas series of returns\n",
    "    Output the CVaR for dataframe / series\n",
    "    \"\"\"\n",
    "    if isinstance(returns, pd.Series):\n",
    "        belowVaR = returns <= historicalVaR(returns, alpha=alpha)\n",
    "        return returns[belowVaR].mean()\n",
    "    # A passed user-defined-function will be passed a Series for evaluation.\n",
    "    elif isinstance(returns, pd.DataFrame):\n",
    "        return returns.aggregate(historicalCVaR, alpha=alpha)\n",
    "    else:\n",
    "        raise TypeError(\"Expected returns to be dataframe or series\")"
   ]
  },
  {
   "cell_type": "code",
   "execution_count": 32,
   "id": "723f6841",
   "metadata": {},
   "outputs": [
    {
     "data": {
      "text/plain": [
       "Symbols\n",
       "CBA.AX      -0.029814\n",
       "BHP.AX      -0.047119\n",
       "TLS.AX      -0.025651\n",
       "NAB.AX      -0.028399\n",
       "WBC.AX      -0.030292\n",
       "STO.AX      -0.043901\n",
       "portfolio   -0.024904\n",
       "dtype: float64"
      ]
     },
     "execution_count": 32,
     "metadata": {},
     "output_type": "execute_result"
    }
   ],
   "source": [
    "CVaR(returns, alpha=5)"
   ]
  },
  {
   "cell_type": "markdown",
   "id": "00a1576d",
   "metadata": {},
   "source": [
    "### We Apply now our var and cvar models to an itinial investement = 10000\n",
    "#### What we want to know is given the level of risk alpha= 5 what is the worst case scenario and the expectation of loss in this worst case scenario"
   ]
  },
  {
   "cell_type": "code",
   "execution_count": 23,
   "id": "ed5a5e20",
   "metadata": {},
   "outputs": [
    {
     "name": "stdout",
     "output_type": "stream",
     "text": [
      "Expected Portfolio Return:       6.04\n",
      "Value at Risk 95th CI    :       192.51\n",
      "Conditional VaR 95th CI  :       249.04\n"
     ]
    }
   ],
   "source": [
    "# 10 days\n",
    "Time = 10\n",
    "hVaR = -VaR(returns['portfolio'], alpha=5)*np.sqrt(Time)\n",
    "hCVaR = -CVaR(returns['portfolio'], alpha=5)*np.sqrt(Time)\n",
    "pRet, pStd = portfolioPerformance(weights, meanReturns, covMatrix, Time)\n",
    "InitialInvestment = 10000\n",
    "print('Expected Portfolio Return:      ', round(InitialInvestment*pRet,2))\n",
    "print('Value at Risk 95th CI    :      ', round(InitialInvestment*hVaR,2))\n",
    "print('Conditional VaR 95th CI  :      ', round(InitialInvestment*hCVaR,2))"
   ]
  },
  {
   "cell_type": "markdown",
   "id": "35c47cf4",
   "metadata": {},
   "source": [
    "#### Explanation: \n",
    "##### Over a 10 days time horizon, we expect to make 6.04 and at the 95% interval confidence we are happy to not lose anymore thant 249.04"
   ]
  },
  {
   "cell_type": "code",
   "execution_count": null,
   "id": "1218c316",
   "metadata": {},
   "outputs": [],
   "source": []
  }
 ],
 "metadata": {
  "kernelspec": {
   "display_name": "Python 3 (ipykernel)",
   "language": "python",
   "name": "python3"
  },
  "language_info": {
   "codemirror_mode": {
    "name": "ipython",
    "version": 3
   },
   "file_extension": ".py",
   "mimetype": "text/x-python",
   "name": "python",
   "nbconvert_exporter": "python",
   "pygments_lexer": "ipython3",
   "version": "3.9.12"
  }
 },
 "nbformat": 4,
 "nbformat_minor": 5
}
